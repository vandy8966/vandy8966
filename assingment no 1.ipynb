{
 "cells": [
  {
   "cell_type": "code",
   "execution_count": 4,
   "id": "fcd9779d-f282-477e-837d-c111398ed996",
   "metadata": {},
   "outputs": [
    {
     "data": {
      "text/plain": [
       "'Q1. Create one variable containing following type of data:\\n(i) string\\n(ii) list\\n(iii) float\\n(iv) tuple \\nWhat will be the data type of the above given variable.\\n'"
      ]
     },
     "execution_count": 4,
     "metadata": {},
     "output_type": "execute_result"
    }
   ],
   "source": [
    "\"\"\"Q1. Create one variable containing following type of data:\n",
    "(i) string\n",
    "(ii) list\n",
    "(iii) float\n",
    "(iv) tuple \n",
    "What will be the data type of the above given variable.\n",
    "\"\"\""
   ]
  },
  {
   "cell_type": "code",
   "execution_count": 2,
   "id": "e6fd4d98-b41e-4203-846f-a6498bed0cb7",
   "metadata": {},
   "outputs": [],
   "source": [
    "a = \" vinod\""
   ]
  },
  {
   "cell_type": "code",
   "execution_count": 3,
   "id": "36453080-e9ba-4b09-be21-e1801758a16a",
   "metadata": {},
   "outputs": [
    {
     "data": {
      "text/plain": [
       "str"
      ]
     },
     "execution_count": 3,
     "metadata": {},
     "output_type": "execute_result"
    }
   ],
   "source": [
    "type(a)"
   ]
  },
  {
   "cell_type": "code",
   "execution_count": 4,
   "id": "16895f08-4a4d-41ac-b8ec-18a609b94686",
   "metadata": {},
   "outputs": [],
   "source": [
    "b=[2,3,4,5,\"sudh\",3+7j,45.40,True]"
   ]
  },
  {
   "cell_type": "code",
   "execution_count": 5,
   "id": "f4871b87-6f8b-40a3-9005-ec334a651577",
   "metadata": {},
   "outputs": [
    {
     "data": {
      "text/plain": [
       "list"
      ]
     },
     "execution_count": 5,
     "metadata": {},
     "output_type": "execute_result"
    }
   ],
   "source": [
    "type(b)"
   ]
  },
  {
   "cell_type": "code",
   "execution_count": 6,
   "id": "d49a23a5-236a-4d45-b662-c5e708adf516",
   "metadata": {},
   "outputs": [],
   "source": [
    "c= 34.45"
   ]
  },
  {
   "cell_type": "code",
   "execution_count": 7,
   "id": "340094ac-c45f-448d-96bf-be34548f0557",
   "metadata": {},
   "outputs": [
    {
     "data": {
      "text/plain": [
       "float"
      ]
     },
     "execution_count": 7,
     "metadata": {},
     "output_type": "execute_result"
    }
   ],
   "source": [
    "type(c)"
   ]
  },
  {
   "cell_type": "code",
   "execution_count": 10,
   "id": "240b5449-4a04-44f9-a1e3-809158e705b6",
   "metadata": {},
   "outputs": [],
   "source": [
    "d =((1,2),'python',(34.56,40))"
   ]
  },
  {
   "cell_type": "code",
   "execution_count": 3,
   "id": "9e5b23c4-7784-4439-ab91-1c361f85ab2f",
   "metadata": {},
   "outputs": [
    {
     "data": {
      "text/plain": [
       "'Q2. Given are some following variables containing data:\\n(i) var1 = ‘ ‘\\n(ii) var2 = ‘[ DS , ML , Python]’\\n(iii) var3 = [ ‘DS’ , ’ML’ , ‘Python’ ]\\n(iv) var4 = 1. '"
      ]
     },
     "execution_count": 3,
     "metadata": {},
     "output_type": "execute_result"
    }
   ],
   "source": [
    "\"\"\"Q2. Given are some following variables containing data:\n",
    "(i) var1 = ‘ ‘\n",
    "(ii) var2 = ‘[ DS , ML , Python]’\n",
    "(iii) var3 = [ ‘DS’ , ’ML’ , ‘Python’ ]\n",
    "(iv) var4 = 1. \"\"\""
   ]
  },
  {
   "cell_type": "code",
   "execution_count": 15,
   "id": "0ad8c968-c558-4134-90e1-0b4bf41bba41",
   "metadata": {},
   "outputs": [],
   "source": [
    "var1=\"vand\""
   ]
  },
  {
   "cell_type": "code",
   "execution_count": 16,
   "id": "5e701c64-5936-42a7-9687-8b388a47da43",
   "metadata": {},
   "outputs": [
    {
     "data": {
      "text/plain": [
       "str"
      ]
     },
     "execution_count": 16,
     "metadata": {},
     "output_type": "execute_result"
    }
   ],
   "source": [
    "type(var1)"
   ]
  },
  {
   "cell_type": "code",
   "execution_count": 17,
   "id": "27f7475d-dff7-4728-b930-f6282d0101b9",
   "metadata": {},
   "outputs": [],
   "source": [
    "var2='[DS,ML,Python]'"
   ]
  },
  {
   "cell_type": "code",
   "execution_count": 18,
   "id": "4d688bf1-25b7-4770-9945-3256bd66dd27",
   "metadata": {},
   "outputs": [
    {
     "data": {
      "text/plain": [
       "str"
      ]
     },
     "execution_count": 18,
     "metadata": {},
     "output_type": "execute_result"
    }
   ],
   "source": [
    "type(var2)"
   ]
  },
  {
   "cell_type": "code",
   "execution_count": 19,
   "id": "b2509120-5f69-4f3b-b4f9-d26a79167e58",
   "metadata": {},
   "outputs": [],
   "source": [
    "var3 =['DS','ML','Python']"
   ]
  },
  {
   "cell_type": "code",
   "execution_count": 20,
   "id": "b5672a5f-8b2a-4059-b89e-521d0ff9fb3b",
   "metadata": {},
   "outputs": [
    {
     "data": {
      "text/plain": [
       "list"
      ]
     },
     "execution_count": 20,
     "metadata": {},
     "output_type": "execute_result"
    }
   ],
   "source": [
    "type(var3)"
   ]
  },
  {
   "cell_type": "code",
   "execution_count": 21,
   "id": "8d6ac2ef-8311-4464-b9cf-9df1dbb9cea0",
   "metadata": {},
   "outputs": [],
   "source": [
    "var4=1"
   ]
  },
  {
   "cell_type": "code",
   "execution_count": 22,
   "id": "d107a022-8f49-4117-bd19-607ea662655d",
   "metadata": {},
   "outputs": [
    {
     "data": {
      "text/plain": [
       "int"
      ]
     },
     "execution_count": 22,
     "metadata": {},
     "output_type": "execute_result"
    }
   ],
   "source": [
    "type(var4)"
   ]
  },
  {
   "cell_type": "code",
   "execution_count": 5,
   "id": "1ed1e546-dd0a-40d3-9734-897b0cb45660",
   "metadata": {},
   "outputs": [
    {
     "data": {
      "text/plain": [
       "'Q3. Explain the use of the following operators using an example:\\n(i) /\\n(ii) %\\n(iii) //\\n(iv) ** '"
      ]
     },
     "execution_count": 5,
     "metadata": {},
     "output_type": "execute_result"
    }
   ],
   "source": [
    "\"\"\"Q3. Explain the use of the following operators using an example:\n",
    "(i) /\n",
    "(ii) %\n",
    "(iii) //\n",
    "(iv) ** \"\"\""
   ]
  },
  {
   "cell_type": "code",
   "execution_count": 27,
   "id": "66936f77-7a86-474c-aab0-51618584a612",
   "metadata": {},
   "outputs": [
    {
     "data": {
      "text/plain": [
       "0.25"
      ]
     },
     "execution_count": 27,
     "metadata": {},
     "output_type": "execute_result"
    }
   ],
   "source": [
    "1/4"
   ]
  },
  {
   "cell_type": "code",
   "execution_count": 28,
   "id": "79c0bc4d-0799-4d2d-91b9-718dfbbd7d2c",
   "metadata": {},
   "outputs": [
    {
     "data": {
      "text/plain": [
       "1"
      ]
     },
     "execution_count": 28,
     "metadata": {},
     "output_type": "execute_result"
    }
   ],
   "source": [
    "1%4"
   ]
  },
  {
   "cell_type": "code",
   "execution_count": 29,
   "id": "d62bda92-6769-4c7d-bbb5-f497c2de9d37",
   "metadata": {},
   "outputs": [
    {
     "data": {
      "text/plain": [
       "0"
      ]
     },
     "execution_count": 29,
     "metadata": {},
     "output_type": "execute_result"
    }
   ],
   "source": [
    "1//4"
   ]
  },
  {
   "cell_type": "code",
   "execution_count": 30,
   "id": "e82e606b-9dd4-429b-b3a1-2132b02c70ed",
   "metadata": {},
   "outputs": [
    {
     "data": {
      "text/plain": [
       "8"
      ]
     },
     "execution_count": 30,
     "metadata": {},
     "output_type": "execute_result"
    }
   ],
   "source": [
    "2**3"
   ]
  },
  {
   "cell_type": "code",
   "execution_count": 6,
   "id": "2c6d1a70-43b2-4017-bf87-1ec2df5e9867",
   "metadata": {},
   "outputs": [
    {
     "data": {
      "text/plain": [
       "'Q4. Create a list of length 10 of your choice containing multiple types of data. Using for loop print the\\nelement and its data type.'"
      ]
     },
     "execution_count": 6,
     "metadata": {},
     "output_type": "execute_result"
    }
   ],
   "source": [
    "\"\"\"Q4. Create a list of length 10 of your choice containing multiple types of data. Using for loop print the\n",
    "element and its data type.\"\"\""
   ]
  },
  {
   "cell_type": "code",
   "execution_count": 1,
   "id": "bf1f3236-a3f8-4267-8cc6-17f2897fe516",
   "metadata": {},
   "outputs": [],
   "source": [
    "a =[2,3,4,5,6,'vin',\"sudh\",True,4+5j,23.50]"
   ]
  },
  {
   "cell_type": "code",
   "execution_count": 2,
   "id": "12ebe6bc-4467-4dcb-a379-fc746e86dec5",
   "metadata": {},
   "outputs": [
    {
     "data": {
      "text/plain": [
       "list"
      ]
     },
     "execution_count": 2,
     "metadata": {},
     "output_type": "execute_result"
    }
   ],
   "source": [
    "type(a)"
   ]
  },
  {
   "cell_type": "code",
   "execution_count": 3,
   "id": "01abffc5-0fa0-465e-b1c8-88ed6c79e610",
   "metadata": {},
   "outputs": [
    {
     "name": "stdout",
     "output_type": "stream",
     "text": [
      "<class 'int'>\n",
      "<class 'int'>\n",
      "<class 'int'>\n",
      "<class 'int'>\n",
      "<class 'int'>\n",
      "<class 'str'>\n",
      "<class 'str'>\n",
      "<class 'bool'>\n",
      "<class 'complex'>\n",
      "<class 'float'>\n"
     ]
    }
   ],
   "source": [
    "a=[2,3,4,5,6,'vin',\"sudh\",True,4+5j,23.50]\n",
    "for i in a:\n",
    "    print(type(i))"
   ]
  },
  {
   "cell_type": "code",
   "execution_count": 4,
   "id": "a81c09ac-d2aa-41eb-871d-aba198a812a4",
   "metadata": {},
   "outputs": [
    {
     "name": "stdout",
     "output_type": "stream",
     "text": [
      "2\n",
      "3\n",
      "4\n",
      "5\n",
      "6\n",
      "vin\n",
      "sudh\n",
      "True\n",
      "(4+5j)\n",
      "23.5\n"
     ]
    }
   ],
   "source": [
    "a=[2,3,4,5,6,'vin',\"sudh\",True,4+5j,23.50]\n",
    "for i in a :\n",
    "    print (i)"
   ]
  },
  {
   "cell_type": "code",
   "execution_count": 1,
   "id": "a544ec3f-41f3-4f1d-93f6-5626b8e5e802",
   "metadata": {},
   "outputs": [
    {
     "data": {
      "text/plain": [
       "' Using a while loop, verify if the number A is purely divisible by number B and if so then how many\\ntimes it can be divisible.'"
      ]
     },
     "execution_count": 1,
     "metadata": {},
     "output_type": "execute_result"
    }
   ],
   "source": [
    "\"\"\" Using a while loop, verify if the number A is purely divisible by number B and if so then how many\n",
    "times it can be divisible.\"\"\""
   ]
  },
  {
   "cell_type": "code",
   "execution_count": 2,
   "id": "f0db9074-b7cc-4c9c-afca-62c4e09e73f4",
   "metadata": {},
   "outputs": [
    {
     "name": "stdin",
     "output_type": "stream",
     "text": [
      " 25\n",
      " 5\n"
     ]
    },
    {
     "name": "stdout",
     "output_type": "stream",
     "text": [
      "5 is factor of 1 and can divide 1 2 times\n"
     ]
    }
   ],
   "source": [
    "A= int(input())\n",
    "B=int(input())\n",
    "count=0\n",
    "while A%B==0:\n",
    "    A=A//B\n",
    "    count +=1\n",
    "if count > 0:\n",
    "    print(f\"{B} is factor of {A} and can divide {A} {count} times\")\n",
    "else:\n",
    "          print(f\"B is not factor of {A}\")\n",
    "        "
   ]
  },
  {
   "cell_type": "code",
   "execution_count": 8,
   "id": "8e93742c-c05a-4e90-8ac5-5e934887f516",
   "metadata": {},
   "outputs": [],
   "source": [
    "my_list = [1,2,3,4,5,6,7,8,9,10,11,12,13,14,15,16,17,18,19,20,21,22,23,24,25]"
   ]
  },
  {
   "cell_type": "code",
   "execution_count": 9,
   "id": "4b619a79-cb55-4671-b2ba-a81d682a9ee9",
   "metadata": {},
   "outputs": [
    {
     "name": "stdout",
     "output_type": "stream",
     "text": [
      "1 is not divisible by 3\n",
      "2 is not divisible by 3\n",
      "3is divisible by 3\n",
      "4 is not divisible by 3\n",
      "5 is not divisible by 3\n",
      "6is divisible by 3\n",
      "7 is not divisible by 3\n",
      "8 is not divisible by 3\n",
      "9is divisible by 3\n",
      "10 is not divisible by 3\n",
      "11 is not divisible by 3\n",
      "12is divisible by 3\n",
      "13 is not divisible by 3\n",
      "14 is not divisible by 3\n",
      "15is divisible by 3\n",
      "16 is not divisible by 3\n",
      "17 is not divisible by 3\n",
      "18is divisible by 3\n",
      "19 is not divisible by 3\n",
      "20 is not divisible by 3\n",
      "21is divisible by 3\n",
      "22 is not divisible by 3\n",
      "23 is not divisible by 3\n",
      "24is divisible by 3\n",
      "25 is not divisible by 3\n"
     ]
    }
   ],
   "source": [
    "for num in my_list :\n",
    "    if  num %3==0:\n",
    "        print( f\"{num}is divisible by 3\")\n",
    "    else:\n",
    "        print(f\"{num} is not divisible by 3\")"
   ]
  },
  {
   "cell_type": "code",
   "execution_count": 8,
   "id": "370a8dbd-c008-4ff9-a451-b330d709a4dd",
   "metadata": {},
   "outputs": [
    {
     "data": {
      "text/plain": [
       "'Q7. What do you understand about mutable and immutable data types? Give examples for both showing\\nthis property.'"
      ]
     },
     "execution_count": 8,
     "metadata": {},
     "output_type": "execute_result"
    }
   ],
   "source": [
    "\"\"\"Q7. What do you understand about mutable and immutable data types? Give examples for both showing\n",
    "this property.\"\"\""
   ]
  },
  {
   "cell_type": "code",
   "execution_count": 1,
   "id": "ded80de8-1605-4d32-bf2c-bc81f8efd95f",
   "metadata": {},
   "outputs": [],
   "source": [
    "f=[1,2,3,4]"
   ]
  },
  {
   "cell_type": "code",
   "execution_count": 2,
   "id": "d69dd2b6-807a-4e76-888d-87b59476ce09",
   "metadata": {},
   "outputs": [
    {
     "data": {
      "text/plain": [
       "1"
      ]
     },
     "execution_count": 2,
     "metadata": {},
     "output_type": "execute_result"
    }
   ],
   "source": [
    "f[0]"
   ]
  },
  {
   "cell_type": "code",
   "execution_count": 3,
   "id": "314f4d93-cd10-4eb2-9674-a09ccd04045c",
   "metadata": {},
   "outputs": [],
   "source": [
    "f[0]=8"
   ]
  },
  {
   "cell_type": "code",
   "execution_count": 4,
   "id": "01d5c52f-132c-463b-9c9f-b58354f4566a",
   "metadata": {},
   "outputs": [
    {
     "data": {
      "text/plain": [
       "[8, 2, 3, 4]"
      ]
     },
     "execution_count": 4,
     "metadata": {},
     "output_type": "execute_result"
    }
   ],
   "source": [
    "f"
   ]
  },
  {
   "cell_type": "code",
   "execution_count": 5,
   "id": "eecebd0c-8f59-403d-bf4d-b2b0a0cf6ad5",
   "metadata": {},
   "outputs": [],
   "source": [
    "s=(1,2,3,4)"
   ]
  },
  {
   "cell_type": "code",
   "execution_count": 6,
   "id": "d2aa1caf-d585-4df6-ba3d-3b1d69a6f62f",
   "metadata": {},
   "outputs": [
    {
     "data": {
      "text/plain": [
       "1"
      ]
     },
     "execution_count": 6,
     "metadata": {},
     "output_type": "execute_result"
    }
   ],
   "source": [
    "s[0]"
   ]
  },
  {
   "cell_type": "code",
   "execution_count": 7,
   "id": "a829dc6d-86a4-4968-b37d-26f62eb325d0",
   "metadata": {},
   "outputs": [
    {
     "ename": "TypeError",
     "evalue": "'tuple' object does not support item assignment",
     "output_type": "error",
     "traceback": [
      "\u001b[0;31m---------------------------------------------------------------------------\u001b[0m",
      "\u001b[0;31mTypeError\u001b[0m                                 Traceback (most recent call last)",
      "Cell \u001b[0;32mIn[7], line 1\u001b[0m\n\u001b[0;32m----> 1\u001b[0m \u001b[43ms\u001b[49m\u001b[43m[\u001b[49m\u001b[38;5;241;43m0\u001b[39;49m\u001b[43m]\u001b[49m\u001b[38;5;241m=\u001b[39m\u001b[38;5;241m2\u001b[39m\n",
      "\u001b[0;31mTypeError\u001b[0m: 'tuple' object does not support item assignment"
     ]
    }
   ],
   "source": [
    "s[0]=2"
   ]
  },
  {
   "cell_type": "code",
   "execution_count": null,
   "id": "07a34225-1e29-4b47-81f2-4da5e06f9fbe",
   "metadata": {},
   "outputs": [],
   "source": []
  }
 ],
 "metadata": {
  "kernelspec": {
   "display_name": "Python 3 (ipykernel)",
   "language": "python",
   "name": "python3"
  },
  "language_info": {
   "codemirror_mode": {
    "name": "ipython",
    "version": 3
   },
   "file_extension": ".py",
   "mimetype": "text/x-python",
   "name": "python",
   "nbconvert_exporter": "python",
   "pygments_lexer": "ipython3",
   "version": "3.10.8"
  }
 },
 "nbformat": 4,
 "nbformat_minor": 5
}
